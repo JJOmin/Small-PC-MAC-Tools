{
 "cells": [
  {
   "cell_type": "code",
   "execution_count": 4,
   "metadata": {},
   "outputs": [
    {
     "name": "stdout",
     "output_type": "stream",
     "text": [
      "Command 'cd Hörbücher' failed: Command 'cd 'Hörbücher'' returned non-zero exit status 1.\n",
      "\n",
      "zip error: Invalid command arguments (stderr is not a tty)\n",
      "Command 'zip -er Potter2.zip Harry Potter' failed: Command 'zip -er Potter2.zip 'Harry Potter'' returned non-zero exit status 16.\n"
     ]
    },
    {
     "name": "stderr",
     "output_type": "stream",
     "text": [
      "/bin/sh: line 0: cd: Hörbücher: No such file or directory\n"
     ]
    }
   ],
   "source": [
    "import tkinter as tk\n",
    "from tkinter import filedialog, simpledialog\n",
    "import zipfile\n",
    "import os\n",
    "\n",
    "# Function to compress a folder into a zip file with a password\n",
    "def compress_folder():\n",
    "    folder_path = filedialog.askdirectory(title=\"Select a folder to compress\")\n",
    "    if not folder_path:\n",
    "        return  # User canceled folder selection\n",
    "    \n",
    "    password = simpledialog.askstring(\"Password\", \"Enter a password for the zip file:\", show='*')\n",
    "    \n",
    "    if password is None:\n",
    "        return  # User canceled password entry\n",
    "    \n",
    "    zip_filename = filedialog.asksaveasfilename(defaultextension=\".zip\", filetypes=[(\"ZIP files\", \"*.zip\")])\n",
    "    \n",
    "    if not zip_filename:\n",
    "        return  # User canceled save location selection\n",
    "    \n",
    "    try:\n",
    "        with zipfile.ZipFile(zip_filename, 'w', zipfile.ZIP_DEFLATED) as zipf:\n",
    "            for root, dirs, files in os.walk(folder_path):\n",
    "                for file in files:\n",
    "                    file_path = os.path.join(root, file)\n",
    "                    arcname = os.path.relpath(file_path, folder_path)\n",
    "                    zipf.write(file_path, arcname=arcname)\n",
    "    \n",
    "        # Set a password for the zip file\n",
    "        with open(zip_filename, 'rb') as zf:\n",
    "            zip_data = zf.read()\n",
    "            with zipfile.ZipFile(zip_filename, 'w', zipfile.ZIP_DEFLATED) as zipf:\n",
    "                zipf.setpassword(password.encode())\n",
    "                zipf.write(zf, arcname=os.path.basename(zip_filename))\n",
    "    \n",
    "        tk.messagebox.showinfo(\"Success\", \"Folder compressed to zip file with password successfully!\")\n",
    "    \n",
    "    except Exception as e:\n",
    "        tk.messagebox.showerror(\"Error\", f\"An error occurred: {str(e)}\")\n",
    "\n",
    "# Create the main window\n",
    "root = tk.Tk()\n",
    "root.title(\"Folder Compression Tool\")\n",
    "\n",
    "# Create a button to trigger folder compression\n",
    "compress_button = tk.Button(root, text=\"Compress Folder\", command=compress_folder)\n",
    "compress_button.pack(pady=20)\n",
    "\n",
    "# Start the main event loop\n",
    "root.mainloop()\n"
   ]
  }
 ],
 "metadata": {
  "kernelspec": {
   "display_name": "base",
   "language": "python",
   "name": "python3"
  },
  "language_info": {
   "codemirror_mode": {
    "name": "ipython",
    "version": 3
   },
   "file_extension": ".py",
   "mimetype": "text/x-python",
   "name": "python",
   "nbconvert_exporter": "python",
   "pygments_lexer": "ipython3",
   "version": "3.10.9"
  },
  "orig_nbformat": 4
 },
 "nbformat": 4,
 "nbformat_minor": 2
}
