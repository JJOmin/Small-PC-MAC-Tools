{
 "cells": [
  {
   "cell_type": "code",
   "execution_count": 4,
   "metadata": {},
   "outputs": [],
   "source": [
    "import subprocess\n",
    "\n",
    "# Command to run\n",
    "command = \"pyinstaller --onefile EasyPythonExport.py\"\n",
    "\n",
    "# Run the command in the Command Prompt\n",
    "result = subprocess.run(command, shell=True, stdout=subprocess.PIPE, stderr=subprocess.PIPE, text=True)\n",
    "\n",
    "# Print the output and error messages\n",
    "print(\"Standard Output:\")\n",
    "print(result.stdout)\n",
    "\n",
    "print(\"\\nStandard Error:\")\n",
    "print(result.stderr)\n",
    "\n",
    "# Print the return code\n",
    "print(\"\\nReturn Code:\", result.returncode)\n"
   ]
  }
 ],
 "metadata": {
  "kernelspec": {
   "display_name": "base",
   "language": "python",
   "name": "python3"
  },
  "language_info": {
   "codemirror_mode": {
    "name": "ipython",
    "version": 3
   },
   "file_extension": ".py",
   "mimetype": "text/x-python",
   "name": "python",
   "nbconvert_exporter": "python",
   "pygments_lexer": "ipython3",
   "version": "3.10.9"
  },
  "orig_nbformat": 4
 },
 "nbformat": 4,
 "nbformat_minor": 2
}
