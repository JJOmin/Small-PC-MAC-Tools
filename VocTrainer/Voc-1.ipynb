{
 "cells": [
  {
   "cell_type": "code",
   "execution_count": 2,
   "metadata": {},
   "outputs": [],
   "source": [
    "import numpy as np\n",
    "#Write a function that \n",
    "class Vokabeltrainer:\n",
    "    def __init__(self, root, language1, language2):\n",
    "        self.root = root\n",
    "        self.language1 = language1\n",
    "        self.language2 = language2\n",
    "        self.voc = np.array([[\"Hallo\", \"Hello\"], [\"Welt\", \"World\"], [\"Hund\", \"Dog\"]])\n",
    "        self.voc = np.array([[\"Hallo\", \"Hello\"], [\"Welt\", \"World\"], [\"Hund\", \"Dog\"]])\n",
    "        self.voc = np.array([[\"Hallo\", \"Hello\"], [\"Welt\", \"World\"], [\"Hund\", \"Dog\"]])\n",
    "        self.voc = np.array([[\"Hallo\", \"Hello\"], [\"Welt\", \"World\"], [\"Hund\", \"Dog\"]])\n",
    "        self.voc = np.array([[\"Hallo\", \"Hello\"], [\"Welt\", \"World\"], [\"Hund\", \"Dog\"]])\n",
    "        self.voc = np.array([[\"Hallo\", \"Hello\"], [\"Welt\", \"World\"], [\"Hund\", \"Dog\"]])\n",
    "        self.voc = np.array([[\"Hallo\", \"Hello\"], [\"Welt\", \"World\"], [\"Hund\", \"Dog\"]])\n",
    "        self.voc = np.array([[\"Hallo\", \"Hello\"], [\"Welt\", \"World\"], [\"Hund\", \"Dog\"]])\n",
    "        self.voc = np.array([[\"Hallo\", \"Hello\"], [\"Welt\", \"World\"], [\"Hund\", \"Dog\"]])\n",
    "        "
   ]
  }
 ],
 "metadata": {
  "kernelspec": {
   "display_name": "base",
   "language": "python",
   "name": "python3"
  },
  "language_info": {
   "codemirror_mode": {
    "name": "ipython",
    "version": 3
   },
   "file_extension": ".py",
   "mimetype": "text/x-python",
   "name": "python",
   "nbconvert_exporter": "python",
   "pygments_lexer": "ipython3",
   "version": "3.10.9"
  },
  "orig_nbformat": 4
 },
 "nbformat": 4,
 "nbformat_minor": 2
}
